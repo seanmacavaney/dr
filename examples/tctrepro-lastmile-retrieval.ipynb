{
 "cells": [
  {
   "cell_type": "markdown",
   "id": "aae53a1d",
   "metadata": {},
   "source": [
    "# Last-Mile TCT Replication: Retrieval\n",
    "\n",
    "This notebook shows how to perform retrieval on indices using released TCT-ColBERT models.\n",
    "\n",
    "Before you follow these examples, perform indexing (or download pre-built indices) using examples in tctrepro-lastmile-indexing.ipynb."
   ]
  },
  {
   "cell_type": "code",
   "execution_count": 1,
   "id": "95019577",
   "metadata": {},
   "outputs": [
    {
     "name": "stderr",
     "output_type": "stream",
     "text": [
      "PyTerrier 0.8.0 has loaded Terrier 5.6 (built by craigmacdonald on 2021-09-17 13:27)\n",
      "\n",
      "No etc/terrier.properties, using terrier.default.properties for bootstrap configuration.\n"
     ]
    }
   ],
   "source": [
    "# Import packages\n",
    "import pyterrier as pt\n",
    "if not pt.started():\n",
    "    pt.init()\n",
    "from pyterrier.measures import *\n",
    "from pyterrier_dr import NumpyIndex, TctColBert"
   ]
  },
  {
   "cell_type": "code",
   "execution_count": 2,
   "id": "d4a01b54",
   "metadata": {},
   "outputs": [],
   "source": [
    "# Build retrieval pipelines:\n",
    "pipeline_v2 = (\n",
    "    TctColBert('castorini/tct_colbert-v2-msmarco') >>\n",
    "    NumpyIndex('indices/castorini__tct_colbert-v2-msmarco.np', verbose=True))\n",
    "\n",
    "pipeline_v2_hn = (\n",
    "    TctColBert('castorini/tct_colbert-v2-hn-msmarco') >>\n",
    "    NumpyIndex('indices/castorini__tct_colbert-v2-hn-msmarco.np', verbose=True))\n",
    "\n",
    "pipeline_v2_hnp = (\n",
    "    TctColBert('castorini/tct_colbert-v2-hnp-msmarco') >>\n",
    "    NumpyIndex('indices/castorini__tct_colbert-v2-hnp-msmarco.np', verbose=True))"
   ]
  },
  {
   "cell_type": "code",
   "execution_count": 3,
   "id": "f981cc45",
   "metadata": {},
   "outputs": [
    {
     "name": "stderr",
     "output_type": "stream",
     "text": [
      "100%|████████████████████████████████████████████████████████████████████████████████████████████████████████████████████████████████████████████████████████████| 2159/2159 [00:54<00:00, 39.87it/s]\n",
      "100%|████████████████████████████████████████████████████████████████████████████████████████████████████████████████████████████████████████████████████████████| 2159/2159 [02:18<00:00, 15.64it/s]\n",
      "100%|████████████████████████████████████████████████████████████████████████████████████████████████████████████████████████████████████████████████████████████| 2159/2159 [02:20<00:00, 15.37it/s]\n"
     ]
    },
    {
     "data": {
      "text/html": [
       "<div>\n",
       "<style scoped>\n",
       "    .dataframe tbody tr th:only-of-type {\n",
       "        vertical-align: middle;\n",
       "    }\n",
       "\n",
       "    .dataframe tbody tr th {\n",
       "        vertical-align: top;\n",
       "    }\n",
       "\n",
       "    .dataframe thead th {\n",
       "        text-align: right;\n",
       "    }\n",
       "</style>\n",
       "<table border=\"1\" class=\"dataframe\">\n",
       "  <thead>\n",
       "    <tr style=\"text-align: right;\">\n",
       "      <th></th>\n",
       "      <th>name</th>\n",
       "      <th>nDCG@10</th>\n",
       "      <th>R@1000</th>\n",
       "    </tr>\n",
       "  </thead>\n",
       "  <tbody>\n",
       "    <tr>\n",
       "      <th>0</th>\n",
       "      <td>v2</td>\n",
       "      <td>0.685551</td>\n",
       "      <td>0.746504</td>\n",
       "    </tr>\n",
       "    <tr>\n",
       "      <th>1</th>\n",
       "      <td>v2-hn</td>\n",
       "      <td>0.709649</td>\n",
       "      <td>0.764716</td>\n",
       "    </tr>\n",
       "    <tr>\n",
       "      <th>2</th>\n",
       "      <td>v2-hnp</td>\n",
       "      <td>0.720577</td>\n",
       "      <td>0.761939</td>\n",
       "    </tr>\n",
       "  </tbody>\n",
       "</table>\n",
       "</div>"
      ],
      "text/plain": [
       "     name   nDCG@10    R@1000\n",
       "0      v2  0.685551  0.746504\n",
       "1   v2-hn  0.709649  0.764716\n",
       "2  v2-hnp  0.720577  0.761939"
      ]
     },
     "execution_count": 3,
     "metadata": {},
     "output_type": "execute_result"
    }
   ],
   "source": [
    "# trec-dl-2019 results\n",
    "\n",
    "dataset = pt.get_dataset('irds:msmarco-passage/trec-dl-2019')\n",
    "\n",
    "pt.Experiment(\n",
    "    [pipeline_v2, pipeline_v2_hn, pipeline_v2_hnp],\n",
    "    dataset.get_topics(),\n",
    "    dataset.get_qrels(),\n",
    "    [nDCG@10, R@1000], # Note: using R@1000 here instead of R(rel=2)@1000 to match the measure used by the TCT-ColBERT paper\n",
    "    names=['v2', 'v2-hn', 'v2-hnp']\n",
    ")"
   ]
  },
  {
   "cell_type": "code",
   "execution_count": 4,
   "id": "731c97ac",
   "metadata": {},
   "outputs": [
    {
     "name": "stderr",
     "output_type": "stream",
     "text": [
      "100%|████████████████████████████████████████████████████████████████████████████████████████████████████████████████████████████████████████████████████████████| 2159/2159 [24:56<00:00,  1.44it/s]\n",
      "100%|████████████████████████████████████████████████████████████████████████████████████████████████████████████████████████████████████████████████████████████| 2159/2159 [24:54<00:00,  1.44it/s]\n",
      "100%|████████████████████████████████████████████████████████████████████████████████████████████████████████████████████████████████████████████████████████████| 2159/2159 [24:59<00:00,  1.44it/s]\n"
     ]
    },
    {
     "data": {
      "text/html": [
       "<div>\n",
       "<style scoped>\n",
       "    .dataframe tbody tr th:only-of-type {\n",
       "        vertical-align: middle;\n",
       "    }\n",
       "\n",
       "    .dataframe tbody tr th {\n",
       "        vertical-align: top;\n",
       "    }\n",
       "\n",
       "    .dataframe thead th {\n",
       "        text-align: right;\n",
       "    }\n",
       "</style>\n",
       "<table border=\"1\" class=\"dataframe\">\n",
       "  <thead>\n",
       "    <tr style=\"text-align: right;\">\n",
       "      <th></th>\n",
       "      <th>name</th>\n",
       "      <th>RR@10</th>\n",
       "      <th>R@1000</th>\n",
       "    </tr>\n",
       "  </thead>\n",
       "  <tbody>\n",
       "    <tr>\n",
       "      <th>0</th>\n",
       "      <td>v2</td>\n",
       "      <td>0.344800</td>\n",
       "      <td>0.967920</td>\n",
       "    </tr>\n",
       "    <tr>\n",
       "      <th>1</th>\n",
       "      <td>v2-hn</td>\n",
       "      <td>0.356027</td>\n",
       "      <td>0.971741</td>\n",
       "    </tr>\n",
       "    <tr>\n",
       "      <th>2</th>\n",
       "      <td>v2-hnp</td>\n",
       "      <td>0.359042</td>\n",
       "      <td>0.970010</td>\n",
       "    </tr>\n",
       "  </tbody>\n",
       "</table>\n",
       "</div>"
      ],
      "text/plain": [
       "     name     RR@10    R@1000\n",
       "0      v2  0.344800  0.967920\n",
       "1   v2-hn  0.356027  0.971741\n",
       "2  v2-hnp  0.359042  0.970010"
      ]
     },
     "execution_count": 4,
     "metadata": {},
     "output_type": "execute_result"
    }
   ],
   "source": [
    "# dev/small results\n",
    "\n",
    "dataset = pt.get_dataset('irds:msmarco-passage/dev/small')\n",
    "\n",
    "pt.Experiment(\n",
    "    [pipeline_v2, pipeline_v2_hn, pipeline_v2_hnp],\n",
    "    dataset.get_topics(),\n",
    "    dataset.get_qrels(),\n",
    "    [RR@10, R@1000],\n",
    "    names=['v2', 'v2-hn', 'v2-hnp']\n",
    ")"
   ]
  },
  {
   "cell_type": "markdown",
   "id": "21318887",
   "metadata": {},
   "source": [
    "You can speed up retrieval using `pyterrier_dr.TorchIndex` (processes on GPU), but note that results differ slightly due to differences & non-determinism in the order of floating point operations."
   ]
  }
 ],
 "metadata": {
  "kernelspec": {
   "display_name": "Python 3 (ipykernel)",
   "language": "python",
   "name": "python3"
  },
  "language_info": {
   "codemirror_mode": {
    "name": "ipython",
    "version": 3
   },
   "file_extension": ".py",
   "mimetype": "text/x-python",
   "name": "python",
   "nbconvert_exporter": "python",
   "pygments_lexer": "ipython3",
   "version": "3.8.12"
  }
 },
 "nbformat": 4,
 "nbformat_minor": 5
}
